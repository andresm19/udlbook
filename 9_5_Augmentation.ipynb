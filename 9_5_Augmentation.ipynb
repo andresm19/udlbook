{
  "nbformat": 4,
  "nbformat_minor": 0,
  "metadata": {
    "colab": {
      "provenance": []
    },
    "kernelspec": {
      "name": "python3",
      "display_name": "Python 3"
    },
    "language_info": {
      "name": "python"
    }
  },
  "cells": [
    {
      "cell_type": "markdown",
      "source": [
        "# **Notebook 9.5: Augmentation**\n",
        "\n",
        "This notebook investigates data augmentation for the MNIST-1D model.\n",
        "\n",
        "Work through the cells below, running each cell in turn. In various places you will see the words \"TO DO\". Follow the instructions at these places and make predictions about what is going to happen or write code to complete the functions.\n",
        "\n",
        "Contact me at udlbookmail@gmail.com if you find any mistakes or have any suggestions.\n"
      ],
      "metadata": {
        "id": "el8l05WQEO46"
      }
    },
    {
      "cell_type": "code",
      "source": [
        "# Run this if you're in a Colab to install MNIST 1D repository\n",
        "!pip install git+https://github.com/greydanus/mnist1d"
      ],
      "metadata": {
        "id": "syvgxgRr3myY",
        "outputId": "9c368ad9-9daa-4b7b-bdd6-b43cfc496831",
        "colab": {
          "base_uri": "https://localhost:8080/"
        }
      },
      "execution_count": 1,
      "outputs": [
        {
          "output_type": "stream",
          "name": "stdout",
          "text": [
            "Collecting git+https://github.com/greydanus/mnist1d\n",
            "  Cloning https://github.com/greydanus/mnist1d to /tmp/pip-req-build-cc82tis4\n",
            "  Running command git clone --filter=blob:none --quiet https://github.com/greydanus/mnist1d /tmp/pip-req-build-cc82tis4\n",
            "  Resolved https://github.com/greydanus/mnist1d to commit 350929d12f4c9a4b7355e0c96604e41b9239bdb4\n",
            "  Installing build dependencies ... \u001b[?25l\u001b[?25hdone\n",
            "  Getting requirements to build wheel ... \u001b[?25l\u001b[?25hdone\n",
            "  Preparing metadata (pyproject.toml) ... \u001b[?25l\u001b[?25hdone\n",
            "Requirement already satisfied: requests in /usr/local/lib/python3.10/dist-packages (from mnist1d==0.0.2.post9) (2.32.3)\n",
            "Requirement already satisfied: numpy in /usr/local/lib/python3.10/dist-packages (from mnist1d==0.0.2.post9) (1.26.4)\n",
            "Requirement already satisfied: matplotlib in /usr/local/lib/python3.10/dist-packages (from mnist1d==0.0.2.post9) (3.7.1)\n",
            "Requirement already satisfied: scipy in /usr/local/lib/python3.10/dist-packages (from mnist1d==0.0.2.post9) (1.13.1)\n",
            "Requirement already satisfied: contourpy>=1.0.1 in /usr/local/lib/python3.10/dist-packages (from matplotlib->mnist1d==0.0.2.post9) (1.2.1)\n",
            "Requirement already satisfied: cycler>=0.10 in /usr/local/lib/python3.10/dist-packages (from matplotlib->mnist1d==0.0.2.post9) (0.12.1)\n",
            "Requirement already satisfied: fonttools>=4.22.0 in /usr/local/lib/python3.10/dist-packages (from matplotlib->mnist1d==0.0.2.post9) (4.53.1)\n",
            "Requirement already satisfied: kiwisolver>=1.0.1 in /usr/local/lib/python3.10/dist-packages (from matplotlib->mnist1d==0.0.2.post9) (1.4.5)\n",
            "Requirement already satisfied: packaging>=20.0 in /usr/local/lib/python3.10/dist-packages (from matplotlib->mnist1d==0.0.2.post9) (24.1)\n",
            "Requirement already satisfied: pillow>=6.2.0 in /usr/local/lib/python3.10/dist-packages (from matplotlib->mnist1d==0.0.2.post9) (9.4.0)\n",
            "Requirement already satisfied: pyparsing>=2.3.1 in /usr/local/lib/python3.10/dist-packages (from matplotlib->mnist1d==0.0.2.post9) (3.1.2)\n",
            "Requirement already satisfied: python-dateutil>=2.7 in /usr/local/lib/python3.10/dist-packages (from matplotlib->mnist1d==0.0.2.post9) (2.8.2)\n",
            "Requirement already satisfied: charset-normalizer<4,>=2 in /usr/local/lib/python3.10/dist-packages (from requests->mnist1d==0.0.2.post9) (3.3.2)\n",
            "Requirement already satisfied: idna<4,>=2.5 in /usr/local/lib/python3.10/dist-packages (from requests->mnist1d==0.0.2.post9) (3.7)\n",
            "Requirement already satisfied: urllib3<3,>=1.21.1 in /usr/local/lib/python3.10/dist-packages (from requests->mnist1d==0.0.2.post9) (2.0.7)\n",
            "Requirement already satisfied: certifi>=2017.4.17 in /usr/local/lib/python3.10/dist-packages (from requests->mnist1d==0.0.2.post9) (2024.7.4)\n",
            "Requirement already satisfied: six>=1.5 in /usr/local/lib/python3.10/dist-packages (from python-dateutil>=2.7->matplotlib->mnist1d==0.0.2.post9) (1.16.0)\n",
            "Building wheels for collected packages: mnist1d\n",
            "  Building wheel for mnist1d (pyproject.toml) ... \u001b[?25l\u001b[?25hdone\n",
            "  Created wheel for mnist1d: filename=mnist1d-0.0.2.post9-py3-none-any.whl size=14496 sha256=1e8d2f81125d8fe8131a8697a45995abf7d2f4dcd26dead9abe8b89931fbda61\n",
            "  Stored in directory: /tmp/pip-ephem-wheel-cache-i_mej2un/wheels/41/95/55/45fcf7d38cfa97e35682da6c5017d4513729131326ce935371\n",
            "Successfully built mnist1d\n",
            "Installing collected packages: mnist1d\n",
            "Successfully installed mnist1d-0.0.2.post9\n"
          ]
        }
      ]
    },
    {
      "cell_type": "code",
      "source": [
        "import torch, torch.nn as nn\n",
        "from torch.utils.data import TensorDataset, DataLoader\n",
        "from torch.optim.lr_scheduler import StepLR\n",
        "import numpy as np\n",
        "import matplotlib.pyplot as plt\n",
        "import mnist1d\n",
        "import random"
      ],
      "metadata": {
        "id": "ckrNsYd13pMe"
      },
      "execution_count": 2,
      "outputs": []
    },
    {
      "cell_type": "code",
      "source": [
        "args = mnist1d.data.get_dataset_args()\n",
        "data = mnist1d.data.get_dataset(args, path='./mnist1d_data.pkl', download=False, regenerate=False)\n",
        "\n",
        "# The training and test input and outputs are in\n",
        "# data['x'], data['y'], data['x_test'], and data['y_test']\n",
        "print(\"Examples in training set: {}\".format(len(data['y'])))\n",
        "print(\"Examples in test set: {}\".format(len(data['y_test'])))\n",
        "print(\"Length of each example: {}\".format(data['x'].shape[-1]))"
      ],
      "metadata": {
        "id": "D_Woo9U730lZ",
        "outputId": "110de6f5-4df0-4484-f642-7577c175c7fb",
        "colab": {
          "base_uri": "https://localhost:8080/"
        }
      },
      "execution_count": 3,
      "outputs": [
        {
          "output_type": "stream",
          "name": "stdout",
          "text": [
            "Did or could not load data from ./mnist1d_data.pkl. Rebuilding dataset...\n",
            "Examples in training set: 4000\n",
            "Examples in test set: 1000\n",
            "Length of each example: 40\n"
          ]
        }
      ]
    },
    {
      "cell_type": "code",
      "source": [
        "D_i = 40    # Input dimensions\n",
        "D_k = 200   # Hidden dimensions\n",
        "D_o = 10    # Output dimensions\n",
        "\n",
        "# Define a model with two hidden layers of size 200\n",
        "# And ReLU activations between them\n",
        "model = nn.Sequential(\n",
        "nn.Linear(D_i, D_k),\n",
        "nn.ReLU(),\n",
        "nn.Linear(D_k, D_k),\n",
        "nn.ReLU(),\n",
        "nn.Linear(D_k, D_o))\n",
        "\n",
        "def weights_init(layer_in):\n",
        "  # Initialize the parameters with He initialization\n",
        "  if isinstance(layer_in, nn.Linear):\n",
        "    nn.init.kaiming_uniform_(layer_in.weight)\n",
        "    layer_in.bias.data.fill_(0.0)\n",
        "\n",
        "# Call the function you just defined\n",
        "model.apply(weights_init)"
      ],
      "metadata": {
        "id": "JfIFWFIL33eF",
        "outputId": "2d23ed77-c3fe-4e53-d148-a45274645d0a",
        "colab": {
          "base_uri": "https://localhost:8080/"
        }
      },
      "execution_count": 4,
      "outputs": [
        {
          "output_type": "execute_result",
          "data": {
            "text/plain": [
              "Sequential(\n",
              "  (0): Linear(in_features=40, out_features=200, bias=True)\n",
              "  (1): ReLU()\n",
              "  (2): Linear(in_features=200, out_features=200, bias=True)\n",
              "  (3): ReLU()\n",
              "  (4): Linear(in_features=200, out_features=10, bias=True)\n",
              ")"
            ]
          },
          "metadata": {},
          "execution_count": 4
        }
      ]
    },
    {
      "cell_type": "code",
      "source": [
        "# choose cross entropy loss function (equation 5.24)\n",
        "loss_function = torch.nn.CrossEntropyLoss()\n",
        "# construct SGD optimizer and initialize learning rate and momentum\n",
        "optimizer = torch.optim.SGD(model.parameters(), lr = 0.05, momentum=0.9)\n",
        "# object that decreases learning rate by half every 10 epochs\n",
        "scheduler = StepLR(optimizer, step_size=10, gamma=0.5)\n",
        "# create 100 dummy data points and store in data loader class\n",
        "x_train = torch.tensor(data['x'].astype('float32'))\n",
        "y_train = torch.tensor(data['y'].transpose().astype('long'))\n",
        "x_test= torch.tensor(data['x_test'].astype('float32'))\n",
        "y_test = torch.tensor(data['y_test'].astype('long'))\n",
        "\n",
        "# load the data into a class that creates the batches\n",
        "data_loader = DataLoader(TensorDataset(x_train,y_train), batch_size=100, shuffle=True, worker_init_fn=np.random.seed(1))\n",
        "\n",
        "# Initialize model weights\n",
        "model.apply(weights_init)\n",
        "\n",
        "# loop over the dataset n_epoch times\n",
        "n_epoch = 50\n",
        "# store the loss and the % correct at each epoch\n",
        "errors_train = np.zeros((n_epoch))\n",
        "errors_test = np.zeros((n_epoch))\n",
        "\n",
        "for epoch in range(n_epoch):\n",
        "  # loop over batches\n",
        "  for i, batch in enumerate(data_loader):\n",
        "    # retrieve inputs and labels for this batch\n",
        "    x_batch, y_batch = batch\n",
        "    # zero the parameter gradients\n",
        "    optimizer.zero_grad()\n",
        "    # forward pass -- calculate model output\n",
        "    pred = model(x_batch)\n",
        "    # compute the loss\n",
        "    loss = loss_function(pred, y_batch)\n",
        "    # backward pass\n",
        "    loss.backward()\n",
        "    # SGD update\n",
        "    optimizer.step()\n",
        "\n",
        "  # Run whole dataset to get statistics -- normally wouldn't do this\n",
        "  pred_train = model(x_train)\n",
        "  pred_test = model(x_test)\n",
        "  _, predicted_train_class = torch.max(pred_train.data, 1)\n",
        "  _, predicted_test_class = torch.max(pred_test.data, 1)\n",
        "  errors_train[epoch] = 100 - 100 * (predicted_train_class == y_train).float().sum() / len(y_train)\n",
        "  errors_test[epoch]= 100 - 100 * (predicted_test_class == y_test).float().sum() / len(y_test)\n",
        "  print(f'Epoch {epoch:5d}, train error {errors_train[epoch]:3.2f}, test error {errors_test[epoch]:3.2f}')"
      ],
      "metadata": {
        "id": "YFfVbTPE4BkJ",
        "outputId": "9c30857e-8748-4141-b724-46e6c7b85562",
        "colab": {
          "base_uri": "https://localhost:8080/"
        }
      },
      "execution_count": 5,
      "outputs": [
        {
          "output_type": "stream",
          "name": "stdout",
          "text": [
            "Epoch     0, train error 57.58, test error 65.10\n",
            "Epoch     1, train error 45.12, test error 57.60\n",
            "Epoch     2, train error 36.22, test error 50.40\n",
            "Epoch     3, train error 26.45, test error 45.60\n",
            "Epoch     4, train error 21.05, test error 43.10\n",
            "Epoch     5, train error 19.78, test error 42.90\n",
            "Epoch     6, train error 14.55, test error 42.50\n",
            "Epoch     7, train error 13.62, test error 38.70\n",
            "Epoch     8, train error 9.50, test error 39.00\n",
            "Epoch     9, train error 5.65, test error 36.20\n",
            "Epoch    10, train error 3.25, test error 35.90\n",
            "Epoch    11, train error 1.93, test error 34.40\n",
            "Epoch    12, train error 1.07, test error 33.90\n",
            "Epoch    13, train error 1.12, test error 34.10\n",
            "Epoch    14, train error 0.43, test error 33.10\n",
            "Epoch    15, train error 0.15, test error 34.00\n",
            "Epoch    16, train error 0.00, test error 33.30\n",
            "Epoch    17, train error 0.00, test error 33.30\n",
            "Epoch    18, train error 0.00, test error 33.40\n",
            "Epoch    19, train error 0.00, test error 33.10\n",
            "Epoch    20, train error 0.00, test error 33.00\n",
            "Epoch    21, train error 0.00, test error 32.90\n",
            "Epoch    22, train error 0.00, test error 33.20\n",
            "Epoch    23, train error 0.00, test error 33.10\n",
            "Epoch    24, train error 0.00, test error 33.20\n",
            "Epoch    25, train error 0.00, test error 33.10\n",
            "Epoch    26, train error 0.00, test error 33.50\n",
            "Epoch    27, train error 0.00, test error 33.30\n",
            "Epoch    28, train error 0.00, test error 33.20\n",
            "Epoch    29, train error 0.00, test error 33.10\n",
            "Epoch    30, train error 0.00, test error 33.30\n",
            "Epoch    31, train error 0.00, test error 33.30\n",
            "Epoch    32, train error 0.00, test error 33.30\n",
            "Epoch    33, train error 0.00, test error 33.40\n",
            "Epoch    34, train error 0.00, test error 33.20\n",
            "Epoch    35, train error 0.00, test error 33.20\n",
            "Epoch    36, train error 0.00, test error 33.50\n",
            "Epoch    37, train error 0.00, test error 33.40\n",
            "Epoch    38, train error 0.00, test error 33.30\n",
            "Epoch    39, train error 0.00, test error 33.40\n",
            "Epoch    40, train error 0.00, test error 33.50\n",
            "Epoch    41, train error 0.00, test error 33.70\n",
            "Epoch    42, train error 0.00, test error 34.00\n",
            "Epoch    43, train error 0.00, test error 33.70\n",
            "Epoch    44, train error 0.00, test error 33.90\n",
            "Epoch    45, train error 0.00, test error 33.80\n",
            "Epoch    46, train error 0.00, test error 33.70\n",
            "Epoch    47, train error 0.00, test error 33.50\n",
            "Epoch    48, train error 0.00, test error 33.90\n",
            "Epoch    49, train error 0.00, test error 34.00\n"
          ]
        }
      ]
    },
    {
      "cell_type": "code",
      "source": [
        "# Plot the results\n",
        "fig, ax = plt.subplots()\n",
        "ax.plot(errors_train,'r-',label='train')\n",
        "ax.plot(errors_test,'b-',label='test')\n",
        "ax.set_ylim(0,100); ax.set_xlim(0,n_epoch)\n",
        "ax.set_xlabel('Epoch'); ax.set_ylabel('Error')\n",
        "ax.set_title('Train Error %3.2f, Test Error %3.2f'%(errors_train[-1],errors_test[-1]))\n",
        "ax.legend()\n",
        "plt.show()"
      ],
      "metadata": {
        "id": "FmGDd4vB8LyM",
        "outputId": "97894f1e-8722-487a-c662-a4a3f4ca8f02",
        "colab": {
          "base_uri": "https://localhost:8080/",
          "height": 472
        }
      },
      "execution_count": 6,
      "outputs": [
        {
          "output_type": "display_data",
          "data": {
            "text/plain": [
              "<Figure size 640x480 with 1 Axes>"
            ],
            "image/png": "[encoded data removed]"
          },
          "metadata": {}
        }
      ]
    },
    {
      "cell_type": "markdown",
      "source": [
        "The best test performance is about 33%.  Let's see if we can improve on that by augmenting the data."
      ],
      "metadata": {
        "id": "55XvoPDO8Qp-"
      }
    },
    {
      "cell_type": "code",
      "source": [
        "def augment(input_vector):\n",
        "  # Create output vector\n",
        "  data_out = np.zeros_like(input_vector)\n",
        "\n",
        "  # TODO:  Shift the input data by a random offset\n",
        "  # (rotating, so points that would go off the end, are added back to the beginning)\n",
        "  # Replace this line:\n",
        "  data_out = np.roll(input_vector,  np.random.randint(len(input_vector)))\n",
        "\n",
        "  # TODO:    # Randomly scale the data by a factor drawn from a uniform distribution over [0.8,1.2]\n",
        "  # Replace this line:\n",
        "  data_out = np.array(data_out) * np.random.uniform(0.8, 1.2)\n",
        "\n",
        "  return data_out"
      ],
      "metadata": {
        "id": "IP6z2iox8MOF"
      },
      "execution_count": 7,
      "outputs": []
    },
    {
      "cell_type": "code",
      "source": [
        "n_data_orig = data['x'].shape[0]\n",
        "# We'll double the amount of data\n",
        "n_data_augment = n_data_orig+4000\n",
        "augmented_x = np.zeros((n_data_augment, D_i))\n",
        "augmented_y = np.zeros(n_data_augment)\n",
        "# First n_data_orig rows are original data\n",
        "augmented_x[0:n_data_orig,:] = data['x']\n",
        "augmented_y[0:n_data_orig] = data['y']\n",
        "\n",
        "# Fill in rest of with augmented data\n",
        "for c_augment in range(n_data_orig, n_data_augment):\n",
        "  # Choose a data point randomly\n",
        "  random_data_index = random.randint(0, n_data_orig-1)\n",
        "  # Augment the point and store\n",
        "  augmented_x[c_augment,:] = augment(data['x'][random_data_index,:])\n",
        "  augmented_y[c_augment] = data['y'][random_data_index]\n"
      ],
      "metadata": {
        "id": "bzN0lu5J95AJ"
      },
      "execution_count": 8,
      "outputs": []
    },
    {
      "cell_type": "code",
      "source": [
        "# choose cross entropy loss function (equation 5.24)\n",
        "loss_function = torch.nn.CrossEntropyLoss()\n",
        "# construct SGD optimizer and initialize learning rate and momentum\n",
        "optimizer = torch.optim.SGD(model.parameters(), lr = 0.05, momentum=0.9)\n",
        "# object that decreases learning rate by half every 50 epochs\n",
        "scheduler = StepLR(optimizer, step_size=10, gamma=0.5)\n",
        "# create 100 dummy data points and store in data loader class\n",
        "x_train = torch.tensor(augmented_x.astype('float32'))\n",
        "y_train = torch.tensor(augmented_y.transpose().astype('long'))\n",
        "x_test= torch.tensor(data['x_test'].astype('float32'))\n",
        "y_test = torch.tensor(data['y_test'].astype('long'))\n",
        "\n",
        "# load the data into a class that creates the batches\n",
        "data_loader = DataLoader(TensorDataset(x_train,y_train), batch_size=100, shuffle=True, worker_init_fn=np.random.seed(1))\n",
        "\n",
        "# Initialize model weights\n",
        "model.apply(weights_init)\n",
        "\n",
        "# loop over the dataset n_epoch times\n",
        "n_epoch = 50\n",
        "# store the loss and the % correct at each epoch\n",
        "errors_train_aug = np.zeros((n_epoch))\n",
        "errors_test_aug = np.zeros((n_epoch))\n",
        "\n",
        "for epoch in range(n_epoch):\n",
        "  # loop over batches\n",
        "  for i, batch in enumerate(data_loader):\n",
        "    # retrieve inputs and labels for this batch\n",
        "    x_batch, y_batch = batch\n",
        "    # zero the parameter gradients\n",
        "    optimizer.zero_grad()\n",
        "    # forward pass -- calculate model output\n",
        "    pred = model(x_batch)\n",
        "    # compute the loss\n",
        "    loss = loss_function(pred, y_batch)\n",
        "    # backward pass\n",
        "    loss.backward()\n",
        "    # SGD update\n",
        "    optimizer.step()\n",
        "\n",
        "  # Run whole dataset to get statistics -- normally wouldn't do this\n",
        "  pred_train = model(x_train)\n",
        "  pred_test = model(x_test)\n",
        "  _, predicted_train_class = torch.max(pred_train.data, 1)\n",
        "  _, predicted_test_class = torch.max(pred_test.data, 1)\n",
        "  errors_train_aug[epoch] = 100 - 100 * (predicted_train_class == y_train).float().sum() / len(y_train)\n",
        "  errors_test_aug[epoch]= 100 - 100 * (predicted_test_class == y_test).float().sum() / len(y_test)\n",
        "  print(f'Epoch {epoch:5d}, train error {errors_train_aug[epoch]:3.2f}, test error {errors_test_aug[epoch]:3.2f}')"
      ],
      "metadata": {
        "id": "hZUNrXpS_kRs",
        "outputId": "266e81a5-8842-4b41-be2e-055e6022e6f9",
        "colab": {
          "base_uri": "https://localhost:8080/"
        }
      },
      "execution_count": 9,
      "outputs": [
        {
          "output_type": "stream",
          "name": "stdout",
          "text": [
            "Epoch     0, train error 54.36, test error 58.70\n",
            "Epoch     1, train error 42.53, test error 48.10\n",
            "Epoch     2, train error 36.06, test error 44.20\n",
            "Epoch     3, train error 30.95, test error 41.60\n",
            "Epoch     4, train error 27.46, test error 40.50\n",
            "Epoch     5, train error 24.46, test error 38.60\n",
            "Epoch     6, train error 20.00, test error 37.80\n",
            "Epoch     7, train error 18.00, test error 36.10\n",
            "Epoch     8, train error 16.01, test error 37.00\n",
            "Epoch     9, train error 13.94, test error 35.60\n",
            "Epoch    10, train error 13.00, test error 34.80\n",
            "Epoch    11, train error 9.93, test error 35.20\n",
            "Epoch    12, train error 7.89, test error 32.60\n",
            "Epoch    13, train error 6.90, test error 33.40\n",
            "Epoch    14, train error 4.36, test error 34.10\n",
            "Epoch    15, train error 3.14, test error 34.40\n",
            "Epoch    16, train error 2.21, test error 31.80\n",
            "Epoch    17, train error 1.59, test error 32.50\n",
            "Epoch    18, train error 0.91, test error 32.60\n",
            "Epoch    19, train error 0.70, test error 32.80\n",
            "Epoch    20, train error 0.04, test error 32.50\n",
            "Epoch    21, train error 0.00, test error 31.60\n",
            "Epoch    22, train error 0.00, test error 32.00\n",
            "Epoch    23, train error 0.00, test error 31.30\n",
            "Epoch    24, train error 0.00, test error 31.30\n",
            "Epoch    25, train error 0.00, test error 31.40\n",
            "Epoch    26, train error 0.00, test error 31.40\n",
            "Epoch    27, train error 0.00, test error 31.80\n",
            "Epoch    28, train error 0.00, test error 31.20\n",
            "Epoch    29, train error 0.00, test error 31.60\n",
            "Epoch    30, train error 0.00, test error 31.50\n",
            "Epoch    31, train error 0.00, test error 31.10\n",
            "Epoch    32, train error 0.00, test error 31.30\n",
            "Epoch    33, train error 0.00, test error 31.60\n",
            "Epoch    34, train error 0.00, test error 31.30\n",
            "Epoch    35, train error 0.00, test error 31.40\n",
            "Epoch    36, train error 0.00, test error 31.20\n",
            "Epoch    37, train error 0.00, test error 31.50\n",
            "Epoch    38, train error 0.00, test error 31.90\n",
            "Epoch    39, train error 0.00, test error 31.50\n",
            "Epoch    40, train error 0.00, test error 31.40\n",
            "Epoch    41, train error 0.00, test error 31.50\n",
            "Epoch    42, train error 0.00, test error 31.10\n",
            "Epoch    43, train error 0.00, test error 31.20\n",
            "Epoch    44, train error 0.00, test error 31.30\n",
            "Epoch    45, train error 0.00, test error 31.20\n",
            "Epoch    46, train error 0.00, test error 31.20\n",
            "Epoch    47, train error 0.00, test error 31.20\n",
            "Epoch    48, train error 0.00, test error 31.30\n",
            "Epoch    49, train error 0.00, test error 31.30\n"
          ]
        }
      ]
    },
    {
      "cell_type": "code",
      "source": [
        "# Plot the results\n",
        "fig, ax = plt.subplots()\n",
        "ax.plot(errors_train,'r-',label='train')\n",
        "ax.plot(errors_test,'b-',label='test')\n",
        "ax.plot(errors_test_aug,'g-',label='test (augmented)')\n",
        "ax.set_ylim(0,100); ax.set_xlim(0,n_epoch)\n",
        "ax.set_xlabel('Epoch'); ax.set_ylabel('Error')\n",
        "ax.set_title('TrainError %3.2f, Test Error %3.2f'%(errors_train_aug[-1],errors_test_aug[-1]))\n",
        "ax.legend()\n",
        "plt.show()"
      ],
      "metadata": {
        "id": "IcnAW4ixBnuc",
        "outputId": "a1c39993-4457-4ebc-9e4e-c3ab2880dbd9",
        "colab": {
          "base_uri": "https://localhost:8080/",
          "height": 472
        }
      },
      "execution_count": 10,
      "outputs": [
        {
          "output_type": "display_data",
          "data": {
            "text/plain": [
              "<Figure size 640x480 with 1 Axes>"
            ],
            "image/png": "[encoded data removed]"
          },
          "metadata": {}
        }
      ]
    },
    {
      "cell_type": "markdown",
      "source": [
        "Hopefully, you should see an improvement in performance when we augment the data."
      ],
      "metadata": {
        "id": "jgsR7ScJHc9b"
      }
    }
  ]
}