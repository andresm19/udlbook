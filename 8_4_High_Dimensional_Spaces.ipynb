{
  "cells": [
    {
      "cell_type": "markdown",
      "metadata": {
        "id": "EjLK-kA1KnYX"
      },
      "source": [
        "# **Notebook 8.4: High-dimensional spaces**\n",
        "\n",
        "This notebook investigates the strange properties of high-dimensional spaces as discussed in the notes at the end of chapter 8.\n",
        "\n",
        "Work through the cells below, running each cell in turn. In various places you will see the words \"TO DO\". Follow the instructions at these places and make predictions about what is going to happen or write code to complete the functions.\n",
        "\n",
        "Contact me at udlbookmail@gmail.com if you find any mistakes or have any suggestions."
      ]
    },
    {
      "cell_type": "code",
      "execution_count": 1,
      "metadata": {
        "id": "4ESMmnkYEVAb"
      },
      "outputs": [],
      "source": [
        "import numpy as np\n",
        "import matplotlib.pyplot as plt\n",
        "import scipy.special as sci"
      ]
    },
    {
      "cell_type": "markdown",
      "metadata": {
        "id": "MonbPEitLNgN"
      },
      "source": [
        "# How close are points in high dimensions?\n",
        "\n",
        "In this part of the notebook, we investigate how close random points are in 2D, 100D, and 1000D.   In each case, we generate 1000 points and calculate the Euclidean distance between each pair.  "
      ]
    },
    {
      "cell_type": "code",
      "execution_count": 2,
      "metadata": {
        "id": "vZSHVmcWEk14"
      },
      "outputs": [],
      "source": [
        "# Fix the random seed so we all have the same random numbers\n",
        "np.random.seed(0)\n",
        "n_data = 1000\n",
        "# Create 1000 data examples (columns) each with 2 dimensions (rows)\n",
        "n_dim = 2\n",
        "x_2D = np.random.normal(size=(n_dim,n_data))\n",
        "# Create 1000 data examples (columns) each with 100 dimensions (rows)\n",
        "n_dim = 100\n",
        "x_100D = np.random.normal(size=(n_dim,n_data))\n",
        "# Create 1000 data examples (columns) each with 1000 dimensions (rows)\n",
        "n_dim = 1000\n",
        "x_1000D = np.random.normal(size=(n_dim,n_data))"
      ]
    },
    {
      "cell_type": "code",
      "execution_count": 3,
      "metadata": {
        "id": "PhVmnUs8ErD9"
      },
      "outputs": [],
      "source": [
        "def distance_ratio(x):\n",
        "# Initialize smallest and largest distances with large and small values, respectively\n",
        "  smallest_dist = np.inf\n",
        "  largest_dist = -np.inf\n",
        "\n",
        "  # Iterate through all pairs of data points\n",
        "  for i in range(len(x)):\n",
        "      for j in range(len(x)):\n",
        "          if i != j:\n",
        "              # Calculate Euclidean distance between data points i and j\n",
        "              dist = np.linalg.norm(x[i] - x[j])\n",
        "\n",
        "              # Update smallest and largest distances\n",
        "              smallest_dist = min(smallest_dist, dist)\n",
        "              largest_dist = max(largest_dist, dist)\n",
        "\n",
        "  # Calculate the ratio and return\n",
        "  dist_ratio = largest_dist / smallest_dist\n",
        "  return dist_ratio\n"
      ]
    },
    {
      "cell_type": "code",
      "execution_count": 4,
      "metadata": {
        "colab": {
          "base_uri": "https://localhost:8080/"
        },
        "id": "0NdPxfn5GQuJ",
        "outputId": "12d5056a-928e-42d5-bd99-2d16092b9148"
      },
      "outputs": [
        {
          "name": "stdout",
          "output_type": "stream",
          "text": [
            "Ratio of largest to smallest distance 2D: 1.000\n",
            "Ratio of largest to smallest distance 100D: 1.184\n",
            "Ratio of largest to smallest distance 1000D: 1.228\n"
          ]
        }
      ],
      "source": [
        "print('Ratio of largest to smallest distance 2D: %3.3f'%(distance_ratio(x_2D)))\n",
        "print('Ratio of largest to smallest distance 100D: %3.3f'%(distance_ratio(x_100D)))\n",
        "print('Ratio of largest to smallest distance 1000D: %3.3f'%(distance_ratio(x_1000D)))\n"
      ]
    },
    {
      "cell_type": "markdown",
      "metadata": {
        "id": "uT68c0k8uBxs"
      },
      "source": [
        "If you did this right, you will see that the distance between the nearest and farthest two points in high dimensions is almost the same.  "
      ]
    },
    {
      "cell_type": "markdown",
      "metadata": {
        "id": "b2FYKV1SL4Z7"
      },
      "source": [
        "# Volume of a hypersphere\n",
        "\n",
        "In the second part of this notebook we calculate the volume of a hypersphere of radius 0.5 (i.e., of diameter 1) as a function of the radius.  Note that you you can check your answer by doing the calculation for 2D using the standard formula for the area of a circle and making sure it matches."
      ]
    },
    {
      "cell_type": "code",
      "execution_count": 5,
      "metadata": {
        "id": "CZoNhD8XJaHR"
      },
      "outputs": [],
      "source": [
        "def volume_of_hypersphere(diameter, dimensions):\n",
        "  # Formula given in Problem 8.7 of the book\n",
        "  # You will need sci.gamma()\n",
        "  # Check out:    https://docs.scipy.org/doc/scipy/reference/generated/scipy.special.gamma.html\n",
        "  # Also use this value for pi\n",
        "  pi = np.pi\n",
        "  # TODO replace this code with formula for the volume of a hypersphere\n",
        "  r = diameter / 2\n",
        "  D = dimensions\n",
        "  volume = (np.power(r,D) * np.power(pi,D/2)) / sci.gamma(D/2 + 1)\n",
        "\n",
        "  return volume\n"
      ]
    },
    {
      "cell_type": "code",
      "execution_count": 6,
      "metadata": {
        "colab": {
          "base_uri": "https://localhost:8080/"
        },
        "id": "fNTBlg_GPEUh",
        "outputId": "303cb575-4a09-4a1a-f8bd-cbc48a53fa13"
      },
      "outputs": [
        {
          "name": "stdout",
          "output_type": "stream",
          "text": [
            "Volume of unit diameter hypersphere in 1 dimensions is 1.000\n",
            "Volume of unit diameter hypersphere in 2 dimensions is 0.785\n",
            "Volume of unit diameter hypersphere in 3 dimensions is 0.524\n",
            "Volume of unit diameter hypersphere in 4 dimensions is 0.308\n",
            "Volume of unit diameter hypersphere in 5 dimensions is 0.164\n",
            "Volume of unit diameter hypersphere in 6 dimensions is 0.081\n",
            "Volume of unit diameter hypersphere in 7 dimensions is 0.037\n",
            "Volume of unit diameter hypersphere in 8 dimensions is 0.016\n",
            "Volume of unit diameter hypersphere in 9 dimensions is 0.006\n",
            "Volume of unit diameter hypersphere in 10 dimensions is 0.002\n"
          ]
        }
      ],
      "source": [
        "diameter = 1.0\n",
        "for c_dim in range(1,11):\n",
        "  print(\"Volume of unit diameter hypersphere in %d dimensions is %3.3f\"%(c_dim, volume_of_hypersphere(diameter, c_dim)))"
      ]
    },
    {
      "cell_type": "markdown",
      "metadata": {
        "id": "PtaeGSNBunJl"
      },
      "source": [
        "You should see that the volume decreases to almost nothing in high dimensions.  All of the volume is in the corners of the unit hypercube (which always has volume 1)."
      ]
    },
    {
      "cell_type": "markdown",
      "metadata": {
        "id": "GdyMeOBmoXyF"
      },
      "source": [
        "# Proportion of hypersphere in outer shell\n",
        "\n",
        "In the third part of the notebook you will calculate what proportion of the volume of a hypersphere is in the outer 1% of the radius/diameter.  Calculate the volume of a hypersphere and then the volume of a hypersphere with 0.99 of the radius and then figure out the ratio.  "
      ]
    },
    {
      "cell_type": "code",
      "execution_count": 7,
      "metadata": {
        "id": "8_CxZ2AIpQ8w"
      },
      "outputs": [],
      "source": [
        "def get_prop_of_volume_in_outer_1_percent(dimension):\n",
        "  # TODO -- replace this line\n",
        "  vol100 = volume_of_hypersphere(1.0, dimension)\n",
        "  vol99 = volume_of_hypersphere(0.99, dimension)\n",
        "  vol_delta = vol100 - vol99\n",
        "  proportion = (vol_delta / vol100) * 100\n",
        "\n",
        "  return proportion"
      ]
    },
    {
      "cell_type": "code",
      "execution_count": 8,
      "metadata": {
        "colab": {
          "base_uri": "https://localhost:8080/"
        },
        "id": "LtMDIn2qPVfJ",
        "outputId": "c7a30c30-5de7-4a68-8d6d-653e6144839b"
      },
      "outputs": [
        {
          "name": "stdout",
          "output_type": "stream",
          "text": [
            "Proportion of volume in outer 1 percent of radius in 1 dimensions =1.000\n",
            "Proportion of volume in outer 1 percent of radius in 2 dimensions =1.990\n",
            "Proportion of volume in outer 1 percent of radius in 10 dimensions =9.562\n",
            "Proportion of volume in outer 1 percent of radius in 20 dimensions =18.209\n",
            "Proportion of volume in outer 1 percent of radius in 50 dimensions =39.499\n",
            "Proportion of volume in outer 1 percent of radius in 100 dimensions =63.397\n",
            "Proportion of volume in outer 1 percent of radius in 150 dimensions =77.855\n",
            "Proportion of volume in outer 1 percent of radius in 200 dimensions =86.602\n",
            "Proportion of volume in outer 1 percent of radius in 250 dimensions =91.894\n",
            "Proportion of volume in outer 1 percent of radius in 300 dimensions =95.096\n"
          ]
        }
      ],
      "source": [
        "# While we're here, let's look at how much of the volume is in the outer 1% of the radius\n",
        "for c_dim in [1,2,10,20,50,100,150,200,250,300]:\n",
        "  print('Proportion of volume in outer 1 percent of radius in %d dimensions =%3.3f'%(c_dim, get_prop_of_volume_in_outer_1_percent(c_dim)))"
      ]
    },
    {
      "cell_type": "markdown",
      "metadata": {
        "id": "n_FVeb-ZwzxD"
      },
      "source": [
        "You should see that by the time we get to 300 dimensions most of the volume is in the outer 1 percent. <br><br>\n",
        "\n",
        "The conclusion of all of this is that in high dimensions you should be sceptical of your intuitions about how things work.  I have tried to visualize many things in one or two dimensions in the book, but you should also be sceptical about these visualizations!"
      ]
    }
  ],
  "metadata": {
    "colab": {
      "provenance": []
    },
    "kernelspec": {
      "display_name": "Python 3",
      "name": "python3"
    },
    "language_info": {
      "name": "python"
    }
  },
  "nbformat": 4,
  "nbformat_minor": 0
}
